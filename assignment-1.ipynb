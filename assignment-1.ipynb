{
  "nbformat": 4,
  "nbformat_minor": 0,
  "metadata": {
    "colab": {
      "name": "Untitled4.ipynb",
      "provenance": [],
      "collapsed_sections": [],
      "authorship_tag": "ABX9TyNHN0b9cwnSWM0rzj2GPryZ",
      "include_colab_link": true
    },
    "kernelspec": {
      "name": "python3",
      "display_name": "Python 3"
    }
  },
  "cells": [
    {
      "cell_type": "markdown",
      "metadata": {
        "id": "view-in-github",
        "colab_type": "text"
      },
      "source": [
        "<a href=\"https://colab.research.google.com/github/rohan-vr/lets-upgrade-ds101/blob/main/assignment-1.ipynb\" target=\"_parent\"><img src=\"https://colab.research.google.com/assets/colab-badge.svg\" alt=\"Open In Colab\"/></a>"
      ]
    },
    {
      "cell_type": "markdown",
      "metadata": {
        "id": "htPLbnriPYjK"
      },
      "source": [
        "1) Guess the correct word:\n",
        "\n",
        "Ans) RAINBOW"
      ]
    },
    {
      "cell_type": "markdown",
      "metadata": {
        "id": "3wWDFkTCPjrS"
      },
      "source": [
        "2) Write a program which prints “LETS UPGRADE”. (Please note that you have to\n",
        "print in ALL CAPS as given)"
      ]
    },
    {
      "cell_type": "code",
      "metadata": {
        "id": "ddR4cT1qhBf1",
        "outputId": "03af8f3d-8769-4929-d30b-ffbf87be1ed5",
        "colab": {
          "base_uri": "https://localhost:8080/"
        }
      },
      "source": [
        "string='lets upgrade'\n",
        "for i in string:\n",
        "  print(i.upper(), end='')"
      ],
      "execution_count": 3,
      "outputs": [
        {
          "output_type": "stream",
          "text": [
            "LETS UPGRADE"
          ],
          "name": "stdout"
        }
      ]
    },
    {
      "cell_type": "markdown",
      "metadata": {
        "id": "KLpqR6pQQFE_"
      },
      "source": [
        "3) Write a program that takes cost price and selling price as input and displays whether the transaction is a\n",
        "Profit or a Loss or Neither."
      ]
    },
    {
      "cell_type": "code",
      "metadata": {
        "id": "V_o64Wg9QKLJ",
        "outputId": "8efb703c-280e-4667-e673-f2cbb6d6f8b5",
        "colab": {
          "base_uri": "https://localhost:8080/"
        }
      },
      "source": [
        "cost_price=int(input())\n",
        "selling_price=int(input())\n",
        "\n",
        "if cost_price<selling_price:\n",
        "    print('Profit')\n",
        "elif cost_price>selling_price:\n",
        "    print('Loss')\n",
        "else:\n",
        "    print('Neither')"
      ],
      "execution_count": 4,
      "outputs": [
        {
          "output_type": "stream",
          "text": [
            "50\n",
            "10\n",
            "Loss\n"
          ],
          "name": "stdout"
        }
      ]
    },
    {
      "cell_type": "markdown",
      "metadata": {
        "id": "xIjJkafmQUcM"
      },
      "source": [
        "4) Write a program that takes an amount in Euros as input. You need to find its equivalent in\n",
        "Rupees and display it. Assume 1 Euro equals Rs. 80."
      ]
    },
    {
      "cell_type": "code",
      "metadata": {
        "id": "PDRvlkFWQYzb",
        "outputId": "bf1af268-8615-43af-d321-1aed61e1bc2a",
        "colab": {
          "base_uri": "https://localhost:8080/"
        }
      },
      "source": [
        "inr=int(input())\n",
        "conversion_factor=80\n",
        "euro=inr*conversion_factor\n",
        "print(euro)"
      ],
      "execution_count": 5,
      "outputs": [
        {
          "output_type": "stream",
          "text": [
            "72\n",
            "5760\n"
          ],
          "name": "stdout"
        }
      ]
    }
  ]
}