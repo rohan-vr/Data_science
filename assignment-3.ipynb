{
  "nbformat": 4,
  "nbformat_minor": 0,
  "metadata": {
    "colab": {
      "name": "Untitled4.ipynb",
      "provenance": [],
      "collapsed_sections": [],
      "authorship_tag": "ABX9TyM0/JEtZYFTIocnG3lSW7ae",
      "include_colab_link": true
    },
    "kernelspec": {
      "name": "python3",
      "display_name": "Python 3"
    }
  },
  "cells": [
    {
      "cell_type": "markdown",
      "metadata": {
        "id": "view-in-github",
        "colab_type": "text"
      },
      "source": [
        "<a href=\"https://colab.research.google.com/github/rohan-vr/lets-upgrade-ds101/blob/main/assignment-3.ipynb\" target=\"_parent\"><img src=\"https://colab.research.google.com/assets/colab-badge.svg\" alt=\"Open In Colab\"/></a>"
      ]
    },
    {
      "cell_type": "markdown",
      "metadata": {
        "id": "3wWDFkTCPjrS"
      },
      "source": [
        "1) Create a numpy array starting from 2 till 50 with a stepsize of 3."
      ]
    },
    {
      "cell_type": "code",
      "metadata": {
        "id": "ddR4cT1qhBf1",
        "outputId": "4dabc8c6-629b-4c9e-f4a6-102428b7476e",
        "colab": {
          "base_uri": "https://localhost:8080/"
        }
      },
      "source": [
        "import numpy as np\n",
        "arr=np.array([i for i in range(2,51,3)])\n",
        "print(arr)\n",
        "print(type(arr)) # to check if its numpy or not"
      ],
      "execution_count": 5,
      "outputs": [
        {
          "output_type": "stream",
          "text": [
            "[ 2  5  8 11 14 17 20 23 26 29 32 35 38 41 44 47 50]\n",
            "<class 'numpy.ndarray'>\n"
          ],
          "name": "stdout"
        }
      ]
    },
    {
      "cell_type": "markdown",
      "metadata": {
        "id": "KLpqR6pQQFE_"
      },
      "source": [
        "2) Accept two lists of 5 elements each from the user.\n",
        "Convert them to numpy arrays. Concatenate these arrays and print it. Also sort these arrays and print it."
      ]
    },
    {
      "cell_type": "code",
      "metadata": {
        "id": "V_o64Wg9QKLJ",
        "outputId": "3fb85a20-7be1-4d29-9f72-0e80e6287709",
        "colab": {
          "base_uri": "https://localhost:8080/"
        }
      },
      "source": [
        "import numpy as np\n",
        "\n",
        "done=False\n",
        "\n",
        "while not done:\n",
        "  \n",
        "  list_1=list(map(int, input().split()))\n",
        "  list_2=list(map(int, input().split()))\n",
        "\n",
        "  if len(list_1)==5 and len(list_2)==5:\n",
        "    done=True\n",
        "  else:\n",
        "    print('Please enter 5 numbers')\n",
        "    done=False\n",
        "\n",
        "array_1 = np.array(list_1)\n",
        "array_2 = np.array(list_2)\n",
        "\n",
        "final_array=np.concatenate((array_1, array_2))\n",
        "print('Concatinated array is: ',final_array)\n",
        "\n",
        "print('Sorted array1 is: ',np.sort(array_1))\n",
        "print('Sorted array2 is: ',np.sort(array_2))"
      ],
      "execution_count": 15,
      "outputs": [
        {
          "output_type": "stream",
          "text": [
            "1 100 2 99 3\n",
            "10 9 8 7 6\n",
            "Concatinated array is:  [  1 100   2  99   3  10   9   8   7   6]\n",
            "Sorted array1 is:  [  1   2   3  99 100]\n",
            "Sorted array2 is:  [ 6  7  8  9 10]\n"
          ],
          "name": "stdout"
        }
      ]
    },
    {
      "cell_type": "markdown",
      "metadata": {
        "id": "xIjJkafmQUcM"
      },
      "source": [
        "3) Write a code snippet to find the dimensions of a ndarray and its size."
      ]
    },
    {
      "cell_type": "code",
      "metadata": {
        "id": "PDRvlkFWQYzb",
        "outputId": "7b070d2b-c203-4331-fa0e-adf0dfee66f0",
        "colab": {
          "base_uri": "https://localhost:8080/"
        }
      },
      "source": [
        "import numpy as np\n",
        "\n",
        "arr=np.array([[3,4],[1,2]])\n",
        "print(arr.shape, arr.size) # shape returns dimension, size returns size"
      ],
      "execution_count": 18,
      "outputs": [
        {
          "output_type": "stream",
          "text": [
            "(2, 2) 4\n"
          ],
          "name": "stdout"
        }
      ]
    },
    {
      "cell_type": "markdown",
      "metadata": {
        "id": "Vr_E-sRKVJ-4"
      },
      "source": [
        "4) How to convert a 1D array into a 2D array? Demonstrate with the help of a code snippet"
      ]
    },
    {
      "cell_type": "code",
      "metadata": {
        "id": "1FDR-fxJVBWM",
        "outputId": "e59ac96f-9ad5-44c4-e467-eca54fb2e61f",
        "colab": {
          "base_uri": "https://localhost:8080/"
        }
      },
      "source": [
        "import numpy as np\n",
        "\n",
        "arr=np.array([1,2,3])\n",
        "print(arr.shape) # to check if its 1D\n",
        "\n",
        "new_arr=arr[np.newaxis, :]\n",
        "print(new_arr.shape) # became a 2D array"
      ],
      "execution_count": 20,
      "outputs": [
        {
          "output_type": "stream",
          "text": [
            "(3,)\n",
            "(1, 3)\n"
          ],
          "name": "stdout"
        }
      ]
    },
    {
      "cell_type": "markdown",
      "metadata": {
        "id": "eFcbRdLWal_b"
      },
      "source": [
        "5) Consider two square numpy arrays. Stack them vertically and horizontally."
      ]
    },
    {
      "cell_type": "code",
      "metadata": {
        "id": "bd1ed0p0awP_",
        "outputId": "680b1fe1-8662-4efe-fef6-e9ac7cee2def",
        "colab": {
          "base_uri": "https://localhost:8080/"
        }
      },
      "source": [
        "import numpy as np\n",
        "\n",
        "array1=np.array([[1,2], [3,4]])\n",
        "array2=np.array([[5,6], [7,8]])\n",
        "\n",
        "print(np.vstack((array1, array2))) # vertical stack\n",
        "print(np.hstack((array1, array2))) # horizontal stack"
      ],
      "execution_count": 22,
      "outputs": [
        {
          "output_type": "stream",
          "text": [
            "[[1 2]\n",
            " [3 4]\n",
            " [5 6]\n",
            " [7 8]]\n",
            "[[1 2 5 6]\n",
            " [3 4 7 8]]\n"
          ],
          "name": "stdout"
        }
      ]
    },
    {
      "cell_type": "markdown",
      "metadata": {
        "id": "cteEjKXrccS1"
      },
      "source": [
        "6) How to get unique items and counts of unique items?"
      ]
    },
    {
      "cell_type": "code",
      "metadata": {
        "id": "YTuUZgFKcgim",
        "outputId": "2edd7086-8b7d-497a-c726-86b01d239d42",
        "colab": {
          "base_uri": "https://localhost:8080/"
        }
      },
      "source": [
        "from collections import Counter\n",
        "\n",
        "items=['Apple', 'Orange', 'Apple', 'Banana', 'Orange', 'Orange', 'Apple', 'Banana']\n",
        "\n",
        "unique_items=set(items) # set does not accept duplicate items \n",
        "\n",
        "count=Counter(items) # inbuilt dictionary function for counting\n",
        "\n",
        "for item in unique_items:\n",
        "  print(item, count[item])"
      ],
      "execution_count": 24,
      "outputs": [
        {
          "output_type": "stream",
          "text": [
            "Banana 2\n",
            "Apple 3\n",
            "Orange 3\n"
          ],
          "name": "stdout"
        }
      ]
    }
  ]
}