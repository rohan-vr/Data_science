{
  "nbformat": 4,
  "nbformat_minor": 0,
  "metadata": {
    "colab": {
      "name": "Untitled4.ipynb",
      "provenance": [],
      "collapsed_sections": [],
      "authorship_tag": "ABX9TyNYbl1u3e5DpJeL77ZnAvsv",
      "include_colab_link": true
    },
    "kernelspec": {
      "name": "python3",
      "display_name": "Python 3"
    }
  },
  "cells": [
    {
      "cell_type": "markdown",
      "metadata": {
        "id": "view-in-github",
        "colab_type": "text"
      },
      "source": [
        "<a href=\"https://colab.research.google.com/github/rohan-vr/lets-upgrade-ds101/blob/main/assignment-2.ipynb\" target=\"_parent\"><img src=\"https://colab.research.google.com/assets/colab-badge.svg\" alt=\"Open In Colab\"/></a>"
      ]
    },
    {
      "cell_type": "markdown",
      "metadata": {
        "id": "3wWDFkTCPjrS"
      },
      "source": [
        "1) Create an empty list. Accept 10 numbers from the user and append to it the list if it is an even number."
      ]
    },
    {
      "cell_type": "code",
      "metadata": {
        "id": "ddR4cT1qhBf1",
        "outputId": "87b8662c-b57d-4be6-c2d4-72a3b2171196",
        "colab": {
          "base_uri": "https://localhost:8080/"
        }
      },
      "source": [
        "empty_list=[]\n",
        "for i in range(10):\n",
        "  number=int(input())\n",
        "  if number%2==0:\n",
        "    empty_list.append(number)\n",
        "for number in empty_list:\n",
        "  print(number, end=' ')"
      ],
      "execution_count": 8,
      "outputs": [
        {
          "output_type": "stream",
          "text": [
            "1\n",
            "2\n",
            "3\n",
            "4\n",
            "5\n",
            "6\n",
            "7\n",
            "8\n",
            "9\n",
            "10\n",
            "2 4 6 8 10 "
          ],
          "name": "stdout"
        }
      ]
    },
    {
      "cell_type": "markdown",
      "metadata": {
        "id": "KLpqR6pQQFE_"
      },
      "source": [
        "2) Create a notebook on LIST COMPREHENSION. This exercise is to put you in a Self learning mode"
      ]
    },
    {
      "cell_type": "code",
      "metadata": {
        "id": "V_o64Wg9QKLJ",
        "outputId": "4f1573d7-a2a6-4cca-cc7c-98ed4d21d8b8",
        "colab": {
          "base_uri": "https://localhost:8080/"
        }
      },
      "source": [
        "new_list=[i for i in range(10) if i%2==0]\n",
        "for number in new_list:\n",
        "  print(number, end=' ')"
      ],
      "execution_count": 11,
      "outputs": [
        {
          "output_type": "stream",
          "text": [
            "0 2 4 6 8 "
          ],
          "name": "stdout"
        }
      ]
    },
    {
      "cell_type": "markdown",
      "metadata": {
        "id": "xIjJkafmQUcM"
      },
      "source": [
        "3) You have seen in the videos how powerful dictionary data structure is.\n",
        "In this assignment, given a number n, you have to write a program that generates a dictionary d which\n",
        "contains (i, i*i), where i is from 1 to n (both included).\n",
        "Then you have to just print this dictionary d."
      ]
    },
    {
      "cell_type": "code",
      "metadata": {
        "id": "PDRvlkFWQYzb",
        "outputId": "ab9f946d-b9cd-434b-a8a8-919f98097e2e",
        "colab": {
          "base_uri": "https://localhost:8080/"
        }
      },
      "source": [
        "n=int(input())\n",
        "square_dict={i:i*i for i in range(1, n+1)}\n",
        "print(square_dict)"
      ],
      "execution_count": 15,
      "outputs": [
        {
          "output_type": "stream",
          "text": [
            "4\n",
            "{1: 1, 2: 4, 3: 9, 4: 16}\n"
          ],
          "name": "stdout"
        }
      ]
    },
    {
      "cell_type": "markdown",
      "metadata": {
        "id": "Vr_E-sRKVJ-4"
      },
      "source": [
        "4) There is a robot which wants to go the charging point to charge itself.\n",
        "The robot moves in a 2-D plane from the original point (0,0). The robot can\n",
        "move toward UP, DOWN, LEFT and RIGHT with given steps. Write a program to compute the distance between the current position after\n",
        "a sequence of movement and original point. If the distance is a float, then\n",
        "just print the nearest integer (use round() function for that and then convert\n",
        "it into an integer)."
      ]
    },
    {
      "cell_type": "code",
      "metadata": {
        "id": "1FDR-fxJVBWM",
        "outputId": "fa1d317a-f7d7-4f4c-facc-d08dab420d68",
        "colab": {
          "base_uri": "https://localhost:8080/"
        }
      },
      "source": [
        "import math\n",
        "\n",
        "x0, y0 = 0, 0 # orginal positions\n",
        "x1, y1 = 0, 0 # final positions, let it be zero for now, we will update it later according to steps taken\n",
        "\n",
        "moves=['UP', 'DOWN', 'LEFT', 'RIGHT']\n",
        "\n",
        "num_steps=int(input())\n",
        "for i in range(num_steps):\n",
        "  direction, step=map(str, input().split())\n",
        "  step=int(step)\n",
        "  if direction==moves[0]:\n",
        "    y1+=step\n",
        "  elif direction==moves[1]:\n",
        "    y1-=step\n",
        "  elif direction==moves[2]:\n",
        "    x1-=step\n",
        "  else:\n",
        "    x1+=step\n",
        "\n",
        "distance=math.sqrt((x0-x1)**2+(y0-y1)**2)\n",
        "\n",
        "print(int(round(distance)))"
      ],
      "execution_count": 21,
      "outputs": [
        {
          "output_type": "stream",
          "text": [
            "4\n",
            "UP 3\n",
            "DOWN 5\n",
            "LEFT 3\n",
            "RIGHT 2\n",
            "2\n"
          ],
          "name": "stdout"
        }
      ]
    }
  ]
}