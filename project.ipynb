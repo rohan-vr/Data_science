{
  "nbformat": 4,
  "nbformat_minor": 0,
  "metadata": {
    "colab": {
      "name": "Untitled4.ipynb",
      "provenance": [],
      "collapsed_sections": [],
      "authorship_tag": "ABX9TyNut/N0hlAHtaJbhSkif8kD",
      "include_colab_link": true
    },
    "kernelspec": {
      "name": "python3",
      "display_name": "Python 3"
    }
  },
  "cells": [
    {
      "cell_type": "markdown",
      "metadata": {
        "id": "view-in-github",
        "colab_type": "text"
      },
      "source": [
        "<a href=\"https://colab.research.google.com/github/rohan-vr/lets-upgrade-ds101/blob/main/project.ipynb\" target=\"_parent\"><img src=\"https://colab.research.google.com/assets/colab-badge.svg\" alt=\"Open In Colab\"/></a>"
      ]
    },
    {
      "cell_type": "markdown",
      "metadata": {
        "id": "3wWDFkTCPjrS"
      },
      "source": [
        "1) Read the dataset."
      ]
    },
    {
      "cell_type": "code",
      "metadata": {
        "id": "ddR4cT1qhBf1"
      },
      "source": [
        "import pandas as pd\n",
        "dataset=pd.read_csv('/pubg - Dr. Darshan Ingle.csv')"
      ],
      "execution_count": 1,
      "outputs": []
    },
    {
      "cell_type": "markdown",
      "metadata": {
        "id": "KLpqR6pQQFE_"
      },
      "source": [
        "2) Check the datatype of all the columns."
      ]
    },
    {
      "cell_type": "code",
      "metadata": {
        "id": "V_o64Wg9QKLJ",
        "outputId": "c891ea6c-85bd-4fe1-8d0d-ec6404d2d449",
        "colab": {
          "base_uri": "https://localhost:8080/"
        }
      },
      "source": [
        "print(dataset.dtypes)"
      ],
      "execution_count": 5,
      "outputs": [
        {
          "output_type": "stream",
          "text": [
            "Id                  object\n",
            "groupId             object\n",
            "matchId             object\n",
            "assists              int64\n",
            "boosts               int64\n",
            "damageDealt        float64\n",
            "DBNOs                int64\n",
            "headshotKills        int64\n",
            "heals                int64\n",
            "killPlace            int64\n",
            "killPoints           int64\n",
            "kills                int64\n",
            "killStreaks          int64\n",
            "longestKill        float64\n",
            "matchDuration        int64\n",
            "matchType           object\n",
            "maxPlace             int64\n",
            "numGroups            int64\n",
            "rankPoints           int64\n",
            "revives              int64\n",
            "rideDistance       float64\n",
            "roadKills            int64\n",
            "swimDistance       float64\n",
            "teamKills            int64\n",
            "vehicleDestroys      int64\n",
            "walkDistance       float64\n",
            "weaponsAcquired      int64\n",
            "winPoints            int64\n",
            "winPlacePerc       float64\n",
            "dtype: object\n"
          ],
          "name": "stdout"
        }
      ]
    },
    {
      "cell_type": "markdown",
      "metadata": {
        "id": "xIjJkafmQUcM"
      },
      "source": [
        "6) The most kills ever recorded are how much?"
      ]
    },
    {
      "cell_type": "code",
      "metadata": {
        "id": "PDRvlkFWQYzb",
        "outputId": "59588771-98e0-4f89-e962-d520a86104b0",
        "colab": {
          "base_uri": "https://localhost:8080/"
        }
      },
      "source": [
        "print(max(dataset['kills']))"
      ],
      "execution_count": 8,
      "outputs": [
        {
          "output_type": "stream",
          "text": [
            "35\n"
          ],
          "name": "stdout"
        }
      ]
    },
    {
      "cell_type": "markdown",
      "metadata": {
        "id": "Vr_E-sRKVJ-4"
      },
      "source": [
        "7) Print all the columns of the dataframe."
      ]
    },
    {
      "cell_type": "code",
      "metadata": {
        "id": "1FDR-fxJVBWM",
        "outputId": "5bc16294-c715-4118-ce42-49cef45e7353",
        "colab": {
          "base_uri": "https://localhost:8080/"
        }
      },
      "source": [
        "print(dataset)"
      ],
      "execution_count": 9,
      "outputs": [
        {
          "output_type": "stream",
          "text": [
            "                  Id         groupId  ... winPoints  winPlacePerc\n",
            "0     2f262dd9795e60  78437bcd91d40e  ...      1470        0.0000\n",
            "1     a32847cf5bf34b  85b7ce5a12e10b  ...      1531        0.2222\n",
            "2     1b1900a9990396  edf80d6523380a  ...         0        0.8571\n",
            "3     f589dd03b60bf2  804ab5e5585558  ...         0        0.3462\n",
            "4     c23c4cc5b78b35  b3e2cd169ed920  ...      1557        0.0690\n",
            "...              ...             ...  ...       ...           ...\n",
            "9995  ef4f474acd8e85  2eca2a8391f75d  ...      1471        0.8333\n",
            "9996  cf0bf82fb4d80e  2eaf2765f93adb  ...      1500        0.7174\n",
            "9997  a0a31a0b1dcbe1  8d50c64ccc5071  ...      1434        0.2083\n",
            "9998  f6874657399d69  d31843d7e62ccb  ...      1534        0.2449\n",
            "9999  90359b0b8f8b0d  61d5b1bb8da43f  ...         0        0.1875\n",
            "\n",
            "[10000 rows x 29 columns]\n"
          ],
          "name": "stdout"
        }
      ]
    },
    {
      "cell_type": "markdown",
      "metadata": {
        "id": "eFcbRdLWal_b"
      },
      "source": [
        "13) How many unique values are there in 'matchType' and what are their counts?"
      ]
    },
    {
      "cell_type": "code",
      "metadata": {
        "id": "bd1ed0p0awP_",
        "outputId": "dad1dcdf-0d85-41c0-a54b-81c07c181686",
        "colab": {
          "base_uri": "https://localhost:8080/"
        }
      },
      "source": [
        "uniques=set(dataset['matchType'])\n",
        "print(uniques)\n",
        "for i in uniques:\n",
        "  print('Count of',i, 'is', len(dataset[dataset['matchType']==i]))"
      ],
      "execution_count": 15,
      "outputs": [
        {
          "output_type": "stream",
          "text": [
            "{'crashfpp', 'normal-squad', 'solo', 'solo-fpp', 'flarefpp', 'normal-squad-fpp', 'duo', 'crashtpp', 'duo-fpp', 'squad-fpp', 'normal-duo-fpp', 'normal-solo-fpp', 'flaretpp', 'squad'}\n",
            "Count of crashfpp is 13\n",
            "Count of normal-squad is 4\n",
            "Count of solo is 386\n",
            "Count of solo-fpp is 1234\n",
            "Count of flarefpp is 1\n",
            "Count of normal-squad-fpp is 24\n",
            "Count of duo is 702\n",
            "Count of crashtpp is 2\n",
            "Count of duo-fpp is 2282\n",
            "Count of squad-fpp is 3969\n",
            "Count of normal-duo-fpp is 13\n",
            "Count of normal-solo-fpp is 8\n",
            "Count of flaretpp is 3\n",
            "Count of squad is 1359\n"
          ],
          "name": "stdout"
        }
      ]
    },
    {
      "cell_type": "markdown",
      "metadata": {
        "id": "cteEjKXrccS1"
      },
      "source": [
        "14) Plot a barplot of ‘matchType’ vs 'killPoints'. Write your inferences."
      ]
    },
    {
      "cell_type": "code",
      "metadata": {
        "id": "YTuUZgFKcgim",
        "outputId": "7ed560f9-4ff0-495b-aff0-323b859600c3",
        "colab": {
          "base_uri": "https://localhost:8080/",
          "height": 279
        }
      },
      "source": [
        "import seaborn as sb\n",
        "ax = sb.barplot(x=\"matchType\", y=\"killPoints\", data=dataset)"
      ],
      "execution_count": 17,
      "outputs": [
        {
          "output_type": "display_data",
          "data": {
            "image/png": "[encoded data removed]",
            "text/plain": [
              "<Figure size 432x288 with 1 Axes>"
            ]
          },
          "metadata": {
            "tags": [],
            "needs_background": "light"
          }
        }
      ]
    },
    {
      "cell_type": "markdown",
      "metadata": {
        "id": "V9X6-fm99Xu9"
      },
      "source": [
        "15) Plot a barplot of ‘matchType’ vs ‘weaponsAcquired’. Write your inferences."
      ]
    },
    {
      "cell_type": "code",
      "metadata": {
        "id": "gTivB1ZL9KnW",
        "outputId": "6366cf05-f7f8-4ff4-add7-44530d723c4b",
        "colab": {
          "base_uri": "https://localhost:8080/",
          "height": 279
        }
      },
      "source": [
        "ax = sb.barplot(x=\"matchType\", y=\"weaponsAcquired\", data=dataset)"
      ],
      "execution_count": 19,
      "outputs": [
        {
          "output_type": "display_data",
          "data": {
            "image/png": "[encoded data removed]",
            "text/plain": [
              "<Figure size 432x288 with 1 Axes>"
            ]
          },
          "metadata": {
            "tags": [],
            "needs_background": "light"
          }
        }
      ]
    },
    {
      "cell_type": "markdown",
      "metadata": {
        "id": "MyWT5H8sG1kz"
      },
      "source": [
        "16) Find the Categorical columns."
      ]
    },
    {
      "cell_type": "code",
      "metadata": {
        "id": "XflS78iq9gHv",
        "outputId": "c39ee06a-c027-4fec-be92-2024e7ad7b17",
        "colab": {
          "base_uri": "https://localhost:8080/"
        }
      },
      "source": [
        "cols = dataset.columns\n",
        "num_cols = dataset._get_numeric_data().columns\n",
        "list(set(cols) - set(num_cols))"
      ],
      "execution_count": 20,
      "outputs": [
        {
          "output_type": "execute_result",
          "data": {
            "text/plain": [
              "['matchId', 'groupId', 'Id', 'matchType']"
            ]
          },
          "metadata": {
            "tags": []
          },
          "execution_count": 20
        }
      ]
    },
    {
      "cell_type": "markdown",
      "metadata": {
        "id": "pVs0HLrbG99z"
      },
      "source": [
        "17) Plot a boxplot of ‘matchType’ vs ‘winPlacePerc’. Write your inferences."
      ]
    },
    {
      "cell_type": "code",
      "metadata": {
        "id": "zM_OYPqvGzQo",
        "outputId": "4950c95c-8f0d-4a39-b58a-9dbcd9d48977",
        "colab": {
          "base_uri": "https://localhost:8080/",
          "height": 279
        }
      },
      "source": [
        "ax = sb.boxplot(x=\"matchType\", y=\"winPlacePerc\", data=dataset)"
      ],
      "execution_count": 21,
      "outputs": [
        {
          "output_type": "display_data",
          "data": {
            "image/png": "[encoded data removed]",
            "text/plain": [
              "<Figure size 432x288 with 1 Axes>"
            ]
          },
          "metadata": {
            "tags": [],
            "needs_background": "light"
          }
        }
      ]
    },
    {
      "cell_type": "markdown",
      "metadata": {
        "id": "IycYqGNTHLU5"
      },
      "source": [
        "18) Plot a boxplot of ‘matchType’ vs ‘matchDuration’. Write your inferences."
      ]
    },
    {
      "cell_type": "code",
      "metadata": {
        "id": "pJjO6HJAHD9y",
        "outputId": "bfc25469-caab-484d-e6fc-701cb036fa1c",
        "colab": {
          "base_uri": "https://localhost:8080/",
          "height": 279
        }
      },
      "source": [
        "ax = sb.boxplot(x=\"matchType\", y=\"matchDuration\", data=dataset)"
      ],
      "execution_count": 22,
      "outputs": [
        {
          "output_type": "display_data",
          "data": {
            "image/png": "[encoded data removed]",
            "text/plain": [
              "<Figure size 432x288 with 1 Axes>"
            ]
          },
          "metadata": {
            "tags": [],
            "needs_background": "light"
          }
        }
      ]
    },
    {
      "cell_type": "markdown",
      "metadata": {
        "id": "HaL1CyERHV7r"
      },
      "source": [
        "19) Change the orientation of the above plot to horizontal"
      ]
    },
    {
      "cell_type": "code",
      "metadata": {
        "id": "eZ9tIkQkHT3X",
        "outputId": "9666d5fb-90da-4588-ce70-d507c588c8c1",
        "colab": {
          "base_uri": "https://localhost:8080/",
          "height": 279
        }
      },
      "source": [
        "ax = sb.boxplot(x=\"matchDuration\", y=\"matchType\", data=dataset, orient=\"h\")"
      ],
      "execution_count": 29,
      "outputs": [
        {
          "output_type": "display_data",
          "data": {
            "image/png": "[encoded data removed]",
            "text/plain": [
              "<Figure size 432x288 with 1 Axes>"
            ]
          },
          "metadata": {
            "tags": [],
            "needs_background": "light"
          }
        }
      ]
    },
    {
      "cell_type": "markdown",
      "metadata": {
        "id": "ZrBZUXqtInwO"
      },
      "source": [
        "20) Add a new column called ‘KILL’ which contains the sum of following columns viz. headshotKills,\n",
        "teamKills, roadKills."
      ]
    },
    {
      "cell_type": "code",
      "metadata": {
        "id": "1U9Hx2xkHv_g",
        "outputId": "761c1233-b6da-4e03-d142-36329c496be2",
        "colab": {
          "base_uri": "https://localhost:8080/"
        }
      },
      "source": [
        "dataset['kill']=dataset['headshotKills']+dataset['teamKills']+dataset['roadKills']\n",
        "dataset['kill']"
      ],
      "execution_count": 32,
      "outputs": [
        {
          "output_type": "execute_result",
          "data": {
            "text/plain": [
              "0       0\n",
              "1       1\n",
              "2       1\n",
              "3       0\n",
              "4       0\n",
              "       ..\n",
              "9995    0\n",
              "9996    0\n",
              "9997    0\n",
              "9998    0\n",
              "9999    0\n",
              "Name: kill, Length: 10000, dtype: int64"
            ]
          },
          "metadata": {
            "tags": []
          },
          "execution_count": 32
        }
      ]
    },
    {
      "cell_type": "markdown",
      "metadata": {
        "id": "rsLUw90nI7_Z"
      },
      "source": [
        "21) Round off column ‘winPlacePerc’ to 2 decimals."
      ]
    },
    {
      "cell_type": "code",
      "metadata": {
        "id": "h--A3edzI148",
        "outputId": "0f1b67d9-d8e5-4e9f-a569-4e34a059307a",
        "colab": {
          "base_uri": "https://localhost:8080/"
        }
      },
      "source": [
        "dataset['winPlacePerc'].round(decimals=2)"
      ],
      "execution_count": 36,
      "outputs": [
        {
          "output_type": "execute_result",
          "data": {
            "text/plain": [
              "0       0.00\n",
              "1       0.22\n",
              "2       0.86\n",
              "3       0.35\n",
              "4       0.07\n",
              "        ... \n",
              "9995    0.83\n",
              "9996    0.72\n",
              "9997    0.21\n",
              "9998    0.24\n",
              "9999    0.19\n",
              "Name: winPlacePerc, Length: 10000, dtype: float64"
            ]
          },
          "metadata": {
            "tags": []
          },
          "execution_count": 36
        }
      ]
    },
    {
      "cell_type": "markdown",
      "metadata": {
        "id": "eLHYlfnaJ8Xr"
      },
      "source": [
        "22) Take a sample of size 50 from the column damageDealt for 100 times and calculate its mean. Plot\n",
        "it on a histogram and comment on its distribution."
      ]
    },
    {
      "cell_type": "code",
      "metadata": {
        "id": "nWGw20qrI4WW",
        "outputId": "3affc589-bf24-496e-cd96-92e97995ebca",
        "colab": {
          "base_uri": "https://localhost:8080/",
          "height": 386
        }
      },
      "source": [
        "vals=[]\n",
        "for i in range(100):\n",
        "  data=dataset['damageDealt'].sample(n=50)\n",
        "  mean=sum(data)/len(data)\n",
        "  vals.append(mean)\n",
        "sb.displot(vals)"
      ],
      "execution_count": 44,
      "outputs": [
        {
          "output_type": "execute_result",
          "data": {
            "text/plain": [
              "<seaborn.axisgrid.FacetGrid at 0x7fb7d86e73c8>"
            ]
          },
          "metadata": {
            "tags": []
          },
          "execution_count": 44
        },
        {
          "output_type": "display_data",
          "data": {
            "image/png": "[encoded data removed]",
            "text/plain": [
              "<Figure size 360x360 with 1 Axes>"
            ]
          },
          "metadata": {
            "tags": [],
            "needs_background": "light"
          }
        }
      ]
    }
  ]
}